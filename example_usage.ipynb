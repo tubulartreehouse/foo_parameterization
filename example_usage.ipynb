{
 "cells": [
  {
   "cell_type": "code",
   "execution_count": 1,
   "metadata": {
    "metadata": {}
   },
   "outputs": [
    {
     "name": "stdout",
     "output_type": "stream",
     "text": [
      "33.510321638291124\n",
      "True\n",
      "False\n"
     ]
    }
   ],
   "source": [
    "from foo_param import FooParameterization, validate_radius\n",
    "\n",
    "# Test FooParameterization\n",
    "print(FooParameterization.calculate_volume(2))  # Expected: 33.510321638291124\n",
    "\n",
    "# Test validate_radius\n",
    "print(validate_radius(2))  # Expected: True\n",
    "print(validate_radius(-1))  # Expected: False"
   ]
  }
 ],
 "metadata": {
  "kernelspec": {
   "display_name": "Python 3",
   "language": "python",
   "name": "python3"
  },
  "language_info": {
   "codemirror_mode": {
    "name": "ipython",
    "version": 3
   },
   "file_extension": ".py",
   "mimetype": "text/x-python",
   "name": "python",
   "nbconvert_exporter": "python",
   "pygments_lexer": "ipython3",
   "version": "3.9.6"
  }
 },
 "nbformat": 4,
 "nbformat_minor": 2
}
